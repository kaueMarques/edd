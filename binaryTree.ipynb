{
 "metadata": {
  "language_info": {
   "codemirror_mode": {
    "name": "ipython",
    "version": 3
   },
   "file_extension": ".py",
   "mimetype": "text/x-python",
   "name": "python",
   "nbconvert_exporter": "python",
   "pygments_lexer": "ipython3",
   "version": "3.8.5-final"
  },
  "orig_nbformat": 2,
  "kernelspec": {
   "name": "python3",
   "display_name": "Python 3"
  }
 },
 "nbformat": 4,
 "nbformat_minor": 2,
 "cells": [
  {
   "source": [
    "Fonte de conheciento: https://www.youtube.com/playlist?list=PL5TJqBvpXQv5Bb71AE5Cd_kB5rNsfU4Cp\n",
    "# BinaryTree\n",
    "![](https://i.pinimg.com/originals/a9/64/78/a964787e2491f22824e99d6a5485a171.png)"
   ],
   "cell_type": "markdown",
   "metadata": {}
  },
  {
   "cell_type": "code",
   "execution_count": 9,
   "metadata": {},
   "outputs": [],
   "source": [
    "lista=[1,2,3]\n",
    "\n",
    "def inverter_lista(lista):\n",
    "    tamanho =len(lista)\n",
    "    limite  = tamanho//2\n",
    "\n",
    "    for i in range(limite):\n",
    "        aux = lista[i]\n",
    "        lista[i] = lista[n-1]\n",
    "        lista[tamanho - i ] = aux"
   ]
  },
  {
   "cell_type": "code",
   "execution_count": null,
   "metadata": {},
   "outputs": [],
   "source": []
  }
 ]
}